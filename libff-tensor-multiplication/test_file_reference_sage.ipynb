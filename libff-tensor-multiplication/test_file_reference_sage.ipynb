{
 "cells": [
  {
   "cell_type": "code",
   "execution_count": 1,
   "id": "e50ddb3d",
   "metadata": {},
   "outputs": [
    {
     "data": {
      "text/plain": [
       "True"
      ]
     },
     "execution_count": 1,
     "metadata": {},
     "output_type": "execute_result"
    }
   ],
   "source": [
    "# Define the prime field characteristic\n",
    "p = 4002409555221667393417789825735904156556882819939007885332058136124031650490837864442687629129015664037894272559787\n",
    "\n",
    "p.is_prime()"
   ]
  },
  {
   "cell_type": "code",
   "execution_count": 2,
   "id": "db3ab0fd",
   "metadata": {},
   "outputs": [],
   "source": [
    "bls381 = GF(p)\n",
    "\n",
    "bls = EllipticCurve(bls381,[0,4])\n",
    "r = bls.order()\n",
    "G = bls.gens()[0]\n"
   ]
  },
  {
   "cell_type": "code",
   "execution_count": 3,
   "id": "22158223",
   "metadata": {},
   "outputs": [],
   "source": [
    "def print_point(G):\n",
    "    print(\"------------ Point Coordinate ------------\")\n",
    "    print(\"X(hex): \",hex(G[0]))\n",
    "    print(\"X(dec): \", G[0])\n",
    "    print(\"Y(hex): \",hex(G[1]))\n",
    "    print(\"Y(dec): \",G[1])\n",
    "    print(\"Z(hex): \",hex(G[2]))\n",
    "    print(\"Z(dec): \",G[2])   "
   ]
  },
  {
   "cell_type": "code",
   "execution_count": 4,
   "id": "98daf8e5",
   "metadata": {},
   "outputs": [
    {
     "name": "stdout",
     "output_type": "stream",
     "text": [
      "------------ Point Coordinate ------------\n",
      "X(hex):  0x38e4078bb8da22c7570f7dc170e554d728b874b86b63ecf19360c2b6d0929bb71442fbd0ad62391acc555c722aea803\n",
      "X(dec):  547267894408768087084154039555760353521479753946258632875036726158932984746527535614714820052060149146314557270019\n",
      "Y(hex):  0xbec328b7b998bb4f0c34146feb9d46b28efc92ed9753fb9e1b8819f3a605248e52ea24532fc73e4d7584bb0fa458df4\n",
      "Y(dec):  1835063209175869974242139117441761755355391001264886580587881843166918857183334906933623397100805888438647438806516\n",
      "Z(hex):  0x1\n",
      "Z(dec):  1\n"
     ]
    }
   ],
   "source": [
    "print_point(G)"
   ]
  },
  {
   "cell_type": "code",
   "execution_count": 5,
   "id": "2b67201e",
   "metadata": {},
   "outputs": [
    {
     "name": "stdout",
     "output_type": "stream",
     "text": [
      "------------ Point Coordinate ------------\n",
      "X(hex):  0x11339e2e2f45de4a5a692d364b5d7a35096e69ab90d945a53009a8d507cc04c811243dfe843cb787477888446f67e2c1\n",
      "X(dec):  2647573539365908156187872320875289844232686969072315270667078416032850847337240712712688001976328196186160732037825\n",
      "Y(hex):  0xdbaa2e9b3e5ab45927c839c4a76173f876bf083ae31468737dccd0c1be5f0d21b106d37b9da2024067372121475ab62\n",
      "Y(dec):  2113093938667914396000776806186400354893362127190679233834878499249011208112236064419880982960294133785487484496738\n",
      "Z(hex):  0x1\n",
      "Z(dec):  1\n"
     ]
    }
   ],
   "source": [
    "Q = 2*G\n",
    "print_point(Q)"
   ]
  },
  {
   "cell_type": "code",
   "execution_count": 6,
   "id": "23755546",
   "metadata": {},
   "outputs": [
    {
     "name": "stdout",
     "output_type": "stream",
     "text": [
      "------------ Point Coordinate ------------\n",
      "X(hex):  0x19e573bc5ede6fcb5522649c873ea8eb3e0b3fb232b572e27af1e39b18f20e53611739324e6f164f701cd4bfb466c306\n",
      "X(dec):  3985804938496873456137352930929051089705849152952571534528489884143131519159321947847380917414645971891223376872198\n",
      "Y(hex):  0xa7bcfb2dfefa45bf0725583673f41ff996dadf025c4a254511f75fe365197c6d3cfaf4e6ca098a4dc2677552f8cf619\n",
      "Y(dec):  1613579565203645874155960391187678510556750330299737199914964851572472065713038177477967827161821746801223930803737\n",
      "Z(hex):  0x1\n",
      "Z(dec):  1\n"
     ]
    }
   ],
   "source": [
    "M = Q + G\n",
    "print_point(M)"
   ]
  },
  {
   "cell_type": "code",
   "execution_count": 8,
   "id": "8571a2d6",
   "metadata": {},
   "outputs": [
    {
     "name": "stdout",
     "output_type": "stream",
     "text": [
      "------------ Point Coordinate ------------\n",
      "X(hex):  0x136ddb7a48bf7d292a9e54005d17b577c64902bce90cfc2ac7cd4b729a686b947a863b9ea00c239f147f1ddf44b2a861\n",
      "X(dec):  2990416832278317204423960161190962033182140278537947825332705471122050139499833334224803208095522007081317890697313\n",
      "Y(hex):  0x163db5e34ba1c8454a928d6ae9c355772af05cb7df209fca47b0f86225f3cd4a5379eb2912ecdcdb148bade90ebaee31\n",
      "Y(dec):  3423211919889812752414216786057159302617883252024474251795346068064526621995760135560991251922464634905502966017585\n",
      "Z(hex):  0x1\n",
      "Z(dec):  1\n"
     ]
    }
   ],
   "source": [
    "scalar = 0x67387465673\n",
    "Mul = scalar*M\n",
    "print_point(Mul)"
   ]
  }
 ],
 "metadata": {
  "kernelspec": {
   "display_name": "SageMath 9.5",
   "language": "sage",
   "name": "sagemath"
  },
  "language_info": {
   "codemirror_mode": {
    "name": "ipython",
    "version": 3
   },
   "file_extension": ".py",
   "mimetype": "text/x-python",
   "name": "python",
   "nbconvert_exporter": "python",
   "pygments_lexer": "ipython3",
   "version": "3.10.12"
  }
 },
 "nbformat": 4,
 "nbformat_minor": 5
}
